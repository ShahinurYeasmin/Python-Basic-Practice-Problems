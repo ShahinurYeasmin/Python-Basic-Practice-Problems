{
  "nbformat": 4,
  "nbformat_minor": 0,
  "metadata": {
    "colab": {
      "provenance": []
    },
    "kernelspec": {
      "name": "python3",
      "display_name": "Python 3"
    },
    "language_info": {
      "name": "python"
    }
  },
  "cells": [
    {
      "cell_type": "code",
      "execution_count": null,
      "metadata": {
        "colab": {
          "base_uri": "https://localhost:8080/"
        },
        "id": "Nc5wFi6iwQs8",
        "outputId": "76791dfa-537b-4be4-ee92-1f0934f52d0d"
      },
      "outputs": [
        {
          "output_type": "stream",
          "name": "stdout",
          "text": [
            "hello world\n"
          ]
        }
      ],
      "source": [
        "#Task 1\n",
        "print(\"hello world\")"
      ]
    },
    {
      "cell_type": "code",
      "source": [
        "#Task 2\n",
        "print(54+56)"
      ],
      "metadata": {
        "colab": {
          "base_uri": "https://localhost:8080/"
        },
        "id": "FIZCXC8RxjY1",
        "outputId": "1e5985e8-5d86-4746-ae11-0b6101696503"
      },
      "execution_count": null,
      "outputs": [
        {
          "output_type": "stream",
          "name": "stdout",
          "text": [
            "110\n"
          ]
        }
      ]
    },
    {
      "cell_type": "code",
      "source": [
        "#Task 3\n",
        "season = \"Fall\"\n",
        "year = 2022\n",
        "print(season)\n",
        "print(year)"
      ],
      "metadata": {
        "colab": {
          "base_uri": "https://localhost:8080/"
        },
        "id": "mF8i8hkIypmm",
        "outputId": "162423ea-16ff-485b-aa8e-cb68db3fb065"
      },
      "execution_count": null,
      "outputs": [
        {
          "output_type": "stream",
          "name": "stdout",
          "text": [
            "Fall\n",
            "2022\n"
          ]
        }
      ]
    },
    {
      "cell_type": "code",
      "source": [
        "#Task 4\n",
        "name = input(\"Please, enter yout name: \")\n",
        "print(\"Your name is\", name)"
      ],
      "metadata": {
        "colab": {
          "base_uri": "https://localhost:8080/"
        },
        "id": "nF9kH8Ipz_Xc",
        "outputId": "85bbdde4-7a06-4b6f-d6bc-6e348a1921da"
      },
      "execution_count": null,
      "outputs": [
        {
          "output_type": "stream",
          "name": "stdout",
          "text": [
            "Please, enter yout name: John\n",
            "Your name is John\n"
          ]
        }
      ]
    },
    {
      "cell_type": "code",
      "source": [
        "#Task 5\n",
        "M = int(input(\"1st number: \"))\n",
        "N = int(input(\"2nd number: \"))\n",
        "result = M**N\n",
        "print(\"{}^{}:{}\".format(M,N,result))"
      ],
      "metadata": {
        "colab": {
          "base_uri": "https://localhost:8080/"
        },
        "id": "noxmTWSq06fx",
        "outputId": "c8391054-3b75-47ed-bd82-2a339dad519b"
      },
      "execution_count": null,
      "outputs": [
        {
          "output_type": "stream",
          "name": "stdout",
          "text": [
            "1st number: 2\n",
            "2nd number: 3\n",
            "2^3:8\n"
          ]
        }
      ]
    },
    {
      "cell_type": "code",
      "source": [
        "#Task 6\n",
        "weight = int(input(\"Your weight: \"))\n",
        "extra = weight%4\n",
        "capacity = weight-extra\n",
        "print(capacity)"
      ],
      "metadata": {
        "colab": {
          "base_uri": "https://localhost:8080/"
        },
        "id": "txcWXAZf333n",
        "outputId": "c5e6a334-15c1-48e1-895a-e13fbf5b8f08"
      },
      "execution_count": null,
      "outputs": [
        {
          "output_type": "stream",
          "name": "stdout",
          "text": [
            "Your weight: 11\n",
            "8\n"
          ]
        }
      ]
    },
    {
      "cell_type": "code",
      "source": [
        "#Task 7\n",
        "A = int(input(\"A= \"))\n",
        "B = int(input(\"B= \"))\n",
        "C = int(input(\"C= \"))\n",
        "D = float(input(\"D= \"))\n",
        "print(int(A**C+B*A-D/3))"
      ],
      "metadata": {
        "colab": {
          "base_uri": "https://localhost:8080/"
        },
        "id": "sH8T9onq5G4-",
        "outputId": "4eb46d82-2dc4-418c-c7da-87bfbca2f09c"
      },
      "execution_count": null,
      "outputs": [
        {
          "output_type": "stream",
          "name": "stdout",
          "text": [
            "A= 2\n",
            "B= 6\n",
            "C= 8\n",
            "D= 1.3\n",
            "267\n"
          ]
        }
      ]
    },
    {
      "cell_type": "code",
      "source": [
        "#Task 8\n",
        "choco = int(input(\"How many chocos do u have: \"))\n",
        "give = choco//3\n",
        "forMe = choco%3\n",
        "print(\"Each friend will recieve: \", give)\n",
        "print(\"The number of remaining chocolates is: \", forMe)"
      ],
      "metadata": {
        "colab": {
          "base_uri": "https://localhost:8080/"
        },
        "id": "W7vVUf916_31",
        "outputId": "687fcaea-af7c-44a6-d49d-f0f87c1ba0d2"
      },
      "execution_count": null,
      "outputs": [
        {
          "output_type": "stream",
          "name": "stdout",
          "text": [
            "How many chocos do u have: 50\n",
            "Each friend will recieve:  16\n",
            "The number of remaining chocolates is:  2\n"
          ]
        }
      ]
    },
    {
      "cell_type": "code",
      "source": [
        "#Task 9\n",
        "num1 = input()\n",
        "num2 = input()\n",
        "print(num2+num1)"
      ],
      "metadata": {
        "colab": {
          "base_uri": "https://localhost:8080/"
        },
        "id": "r7pkpTOg9lBF",
        "outputId": "958ffb30-8218-445c-b352-760e0a20403b"
      },
      "execution_count": null,
      "outputs": [
        {
          "output_type": "stream",
          "name": "stdout",
          "text": [
            "2\n",
            "5\n",
            "52\n"
          ]
        }
      ]
    },
    {
      "cell_type": "code",
      "source": [
        "#task 10\n",
        "name = input()\n",
        "print(name[0])\n"
      ],
      "metadata": {
        "colab": {
          "base_uri": "https://localhost:8080/"
        },
        "id": "Uy1-cR5g_ZOC",
        "outputId": "9c1ce243-7142-4340-96df-bd718b0db596"
      },
      "execution_count": null,
      "outputs": [
        {
          "output_type": "stream",
          "name": "stdout",
          "text": [
            "The quick brown fox jumps over the lazy dog\n",
            "T\n"
          ]
        }
      ]
    },
    {
      "cell_type": "code",
      "source": [
        "#Task 11\n",
        "num = int(input())\n",
        "ans = num%2\n",
        "if ans ==0:\n",
        "  print(\"True\")\n",
        "else:\n",
        "  print(\"False\")"
      ],
      "metadata": {
        "colab": {
          "base_uri": "https://localhost:8080/"
        },
        "id": "PsgxpegjAyz7",
        "outputId": "372720a0-d4c3-4efa-caa4-5d2e3e2c5185"
      },
      "execution_count": null,
      "outputs": [
        {
          "output_type": "stream",
          "name": "stdout",
          "text": [
            "20\n",
            "True\n"
          ]
        }
      ]
    }
  ]
}