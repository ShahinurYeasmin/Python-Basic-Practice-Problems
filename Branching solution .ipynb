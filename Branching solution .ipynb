{
  "nbformat": 4,
  "nbformat_minor": 0,
  "metadata": {
    "colab": {
      "provenance": []
    },
    "kernelspec": {
      "name": "python3",
      "display_name": "Python 3"
    },
    "language_info": {
      "name": "python"
    }
  },
  "cells": [
    {
      "cell_type": "code",
      "execution_count": null,
      "metadata": {
        "id": "DkSNGtjAy4Ux",
        "colab": {
          "base_uri": "https://localhost:8080/"
        },
        "outputId": "2adc532c-2cd1-49ea-e6a7-c12964fe0695"
      },
      "outputs": [
        {
          "output_type": "stream",
          "name": "stdout",
          "text": [
            "7\n",
            "9\n",
            "Sum=  16\n",
            "Product=  63\n",
            "Difference= -2\n"
          ]
        }
      ],
      "source": [
        "#Task 1\n",
        "num1 = int(input())\n",
        "num2 = int(input())\n",
        "sum = num1+num2\n",
        "product = num1*num2\n",
        "difference = num1-num2\n",
        "\n",
        "print(\"Sum= \",sum)\n",
        "print(\"Product= \",product)\n",
        "print(\"Difference=\",difference )"
      ]
    },
    {
      "cell_type": "code",
      "source": [
        "#Task 2\n",
        "import math\n",
        "r = float(input(\"Please, enter the radius: \"))\n",
        "area = math.pi*math.pow(r,2)\n",
        "circumference = 2*math.pi*r\n",
        "print(\"Area is \", area)\n",
        "print(\"Circumference is: \",circumference)"
      ],
      "metadata": {
        "id": "sqaStzQAzdi5",
        "colab": {
          "base_uri": "https://localhost:8080/"
        },
        "outputId": "0f14defd-401d-4466-ab99-3da0eb8f4a3f"
      },
      "execution_count": null,
      "outputs": [
        {
          "output_type": "stream",
          "name": "stdout",
          "text": [
            "Please, enter the radius: 4\n",
            "Area is  50.26548245743669\n",
            "Circumference is:  25.132741228718345\n"
          ]
        }
      ]
    },
    {
      "cell_type": "code",
      "source": [
        "#Task 3\n",
        "num1 = int(input())\n",
        "num2 = int(input())\n",
        "\n",
        "if num1>num2:\n",
        "     print(\"First is greater\")\n",
        "elif num1<num2:\n",
        "     print(\"Second is greater\")\n",
        "else: print(\"The numbers are equal\")"
      ],
      "metadata": {
        "colab": {
          "base_uri": "https://localhost:8080/"
        },
        "id": "lOCDCc5gzfX5",
        "outputId": "a6315a51-b29c-44f3-b980-f2a5a9558df9"
      },
      "execution_count": null,
      "outputs": [
        {
          "output_type": "stream",
          "name": "stdout",
          "text": [
            "Enter your 1st number: 3\n",
            "Enter your 2nd number: 33\n",
            "2nd number is greater\n"
          ]
        }
      ]
    },
    {
      "cell_type": "code",
      "source": [
        "#Task 4\n",
        "firstNum = int(input(\"Enter your 1st number: \"))\n",
        "secondNum = int(input(\"Enter your 2nd number: \"))\n",
        "\n",
        "if firstNum>secondNum:\n",
        "     print(firstNum-secondNum)\n",
        "elif firstNum<secondNum:\n",
        "     print(secondNum-firstNum)\n",
        "else: print(\"0\")"
      ],
      "metadata": {
        "colab": {
          "base_uri": "https://localhost:8080/"
        },
        "id": "jzP3LRJmz-qp",
        "outputId": "7091b26f-4eee-4c87-918d-9b9b8d97b855"
      },
      "execution_count": null,
      "outputs": [
        {
          "output_type": "stream",
          "name": "stdout",
          "text": [
            "Enter your 1st number: -5\n",
            "Enter your 2nd number: 70\n",
            "75\n"
          ]
        }
      ]
    },
    {
      "cell_type": "code",
      "source": [
        "#Task 5\n",
        "x = int(input(\"x=\"))\n",
        "remeinder= x%2\n",
        "if remeinder == 0:\n",
        "  print(\"The number is even\")\n",
        "else: print(\"the number is odd\")"
      ],
      "metadata": {
        "colab": {
          "base_uri": "https://localhost:8080/"
        },
        "id": "rvcJHJk60brB",
        "outputId": "46c0fa21-acbc-4d88-8267-177bf240dafa"
      },
      "execution_count": null,
      "outputs": [
        {
          "output_type": "stream",
          "name": "stdout",
          "text": [
            "x=7\n",
            "the number is odd\n"
          ]
        }
      ]
    },
    {
      "cell_type": "code",
      "source": [
        "#Task 6\n",
        "num = int(input(\"Enter your integer: \"))\n",
        "if num%2==0 or num%5==0:\n",
        "  print(num)\n",
        "else: print(\"Not a multiple of 2 or 5\")"
      ],
      "metadata": {
        "colab": {
          "base_uri": "https://localhost:8080/"
        },
        "id": "T-soP3zr2GZo",
        "outputId": "e2877c10-8851-4ae0-c52d-8cf3f4df5737"
      },
      "execution_count": null,
      "outputs": [
        {
          "output_type": "stream",
          "name": "stdout",
          "text": [
            "Enter your integer: 10\n",
            "10\n"
          ]
        }
      ]
    },
    {
      "cell_type": "code",
      "source": [
        "#Task 7\n",
        "num = int(input(\"Enter your integer: \"))\n",
        "if num%2==0 and num%5==0:\n",
        "  print(\"Multiple of 2 and 5 both\")\n",
        "elif num%2==0 or num%5==0:\n",
        "  print(num)\n",
        "else: print(\"Not a multiple we want\")"
      ],
      "metadata": {
        "colab": {
          "base_uri": "https://localhost:8080/"
        },
        "id": "EVWgi7I13cQl",
        "outputId": "091b868c-6542-438e-c61f-d8cf50db3ada"
      },
      "execution_count": null,
      "outputs": [
        {
          "output_type": "stream",
          "name": "stdout",
          "text": [
            "Enter your integer: 10\n",
            "Multiple of 2 and 5 both\n"
          ]
        }
      ]
    },
    {
      "cell_type": "code",
      "source": [
        "#Task 8\n",
        "num = int(input(\"Enter your integer: \"))\n",
        "if num%2==0 and num%5==0:\n",
        "  print(num)\n",
        "else: print(\"Not multiple of 2 and 5 both\")"
      ],
      "metadata": {
        "colab": {
          "base_uri": "https://localhost:8080/"
        },
        "id": "zUumhtcV4qdi",
        "outputId": "85ed89cf-6324-48a8-e7fb-1df67d55d39f"
      },
      "execution_count": null,
      "outputs": [
        {
          "output_type": "stream",
          "name": "stdout",
          "text": [
            "Enter your integer: 15\n",
            "Not multiple of 2 and 5 both\n"
          ]
        }
      ]
    },
    {
      "cell_type": "code",
      "source": [
        "#Task 9\n",
        "sec = int(input(\"Enter the seconds: \"))\n",
        "\n",
        "hour = sec//3600\n",
        "min = (sec%3600)//60\n",
        "second = (sec%3600)%60\n",
        "\n",
        "print(\"Hours:{} Minutes:{} Seconds:{}\" .format(hour,min,second))"
      ],
      "metadata": {
        "colab": {
          "base_uri": "https://localhost:8080/"
        },
        "id": "H3POFPrF5YwB",
        "outputId": "7fd557d1-1201-4dcf-9ad3-52403e67756e"
      },
      "execution_count": null,
      "outputs": [
        {
          "output_type": "stream",
          "name": "stdout",
          "text": [
            "Enter the seconds: 10000\n",
            "Hours:2 Minutes:46 Seconds:40\n"
          ]
        }
      ]
    },
    {
      "cell_type": "code",
      "source": [
        "#Task 10\n",
        "hr = int(input(\"Please enter your working hour: \"))\n",
        "salary = 0\n",
        "if hr>= 0:\n",
        "   if hr<=168:\n",
        "      if hr<=40:\n",
        "         salary = hr*200\n",
        "         print(\"Your salary is: \", salary)\n",
        "      else:\n",
        "         salary = 8000+(hr-40)*300\n",
        "         print(\"Your salary is: \", salary)\n",
        "   else: print(\"Impossible to work more than 168 hours weekly\")\n",
        "else: print(\"Hour cannot be negative\")"
      ],
      "metadata": {
        "id": "fGwAwdgv9n6a",
        "colab": {
          "base_uri": "https://localhost:8080/"
        },
        "outputId": "66c79118-6fcb-436e-c0c5-ce7ef7c6b4b0"
      },
      "execution_count": null,
      "outputs": [
        {
          "output_type": "stream",
          "name": "stdout",
          "text": [
            "Please enter your working hour: 100\n",
            "Your salary is:  26000\n"
          ]
        }
      ]
    },
    {
      "cell_type": "code",
      "source": [
        "#Task 11\n",
        "s = int(input(\"S = \"))\n",
        "L1 = 3000-125*s**2\n",
        "L2 = 12000/(4+(s*s)/14900)\n",
        "if s<100:\n",
        "  print(L1)\n",
        "else:\n",
        "  print(L2)"
      ],
      "metadata": {
        "colab": {
          "base_uri": "https://localhost:8080/"
        },
        "id": "VQWtAA6B-cgc",
        "outputId": "dbb13a7e-2e4f-46a3-dcdb-741b89928c81"
      },
      "execution_count": null,
      "outputs": [
        {
          "output_type": "stream",
          "name": "stdout",
          "text": [
            "S = 120\n",
            "2416.2162162162163\n"
          ]
        }
      ]
    },
    {
      "cell_type": "code",
      "source": [
        "#Task 12\n",
        "x = int(input(\"Plese enter the time: \"))\n",
        "if x>0 and x<23:\n",
        "  if x>=4 and x<=6:\n",
        "    print(\"Breakfast\")\n",
        "  elif x>=12 and x<=13:\n",
        "    print(\"Lunch\")\n",
        "  elif x>=16 and x<=17:\n",
        "    print(\"Snacks\")\n",
        "  elif x>=19 and x<=20:\n",
        "    print(\"dinner\")\n",
        "  else: print(\"Patience is a virtue\")\n",
        "else: print(\"Wrong time\")"
      ],
      "metadata": {
        "colab": {
          "base_uri": "https://localhost:8080/"
        },
        "id": "fAQvE9QSAiuk",
        "outputId": "c171936b-fbd1-4ec2-ab1b-182052cbcba8"
      },
      "execution_count": null,
      "outputs": [
        {
          "output_type": "stream",
          "name": "stdout",
          "text": [
            "Plese enter the time: 5\n",
            "Breakfast\n"
          ]
        }
      ]
    },
    {
      "cell_type": "code",
      "source": [
        "#Task 13\n",
        "x = int(input(\"Please enter your marks: \"))\n",
        "if x>0 and x<100:\n",
        "  if x>=90:\n",
        "    print(\"A\")\n",
        "  elif x>=80 and x<=89:\n",
        "    print(\"B\")\n",
        "  elif x>=70 and x<=79:\n",
        "    print(\"C\")\n",
        "  elif x>=60 and x<=69:\n",
        "    print(\"D\")\n",
        "  elif x>=50 and x<=59:\n",
        "    print(\"E\")\n",
        "  elif x<50:\n",
        "    print(\"F\")\n",
        "else:print(\"Invalid number\")"
      ],
      "metadata": {
        "colab": {
          "base_uri": "https://localhost:8080/"
        },
        "id": "NlS5jiCjETW1",
        "outputId": "ec673f8d-85dd-4097-a1df-70f83dce1c98"
      },
      "execution_count": null,
      "outputs": [
        {
          "output_type": "stream",
          "name": "stdout",
          "text": [
            "Please enter your marks: -1\n",
            "Invalid number\n"
          ]
        }
      ]
    },
    {
      "cell_type": "code",
      "source": [
        "#Task 14\n",
        "distance = float(input())\n",
        "time = float(input())\n",
        "velocity = ((distance/1000)/(time/3600))\n",
        "print(velocity,\"km/h\")\n",
        "if velocity<60:\n",
        "  print(\"Too slow. Needs more changes.\")\n",
        "elif velocity>=60 and velocity<=90:\n",
        "  print(\"Velocity is okay. The car is ready!\")\n",
        "elif velocity>90:\n",
        "  print(\"Too fast. Only a few changes should suffice.\")"
      ],
      "metadata": {
        "id": "z_3XgIUTJmIs",
        "colab": {
          "base_uri": "https://localhost:8080/"
        },
        "outputId": "e322c604-5efe-4b00-815d-3e6f15fa324b"
      },
      "execution_count": null,
      "outputs": [
        {
          "output_type": "stream",
          "name": "stdout",
          "text": [
            "25400\n",
            "3600\n",
            "25.4\n",
            "Too slow. Needs more changes.\n"
          ]
        }
      ]
    },
    {
      "cell_type": "code",
      "source": [
        "#Task 15\n",
        "cgpa = float(input(\"Your cgpa: \"))\n",
        "credit = int(input(\"Your credits: \"))\n",
        "if cgpa>=3.8 and credit>=30:\n",
        "    if 3.80<=cgpa<=3.89:\n",
        "      print(\"The student is eligible for a waiver of 25 percent\")\n",
        "    elif 3.90<=cgpa<=3.94:\n",
        "      print(\"The student is eligible for a waiver of 50 percent\")\n",
        "    elif 3.95<=cgpa<=3.99:\n",
        "      print(\"The student is eligible for a waiver of 75 percent\")\n",
        "    elif cgpa==4.00:\n",
        "      print(\"The student is eligible for a waiver of 100 percent\")\n",
        "else: print(\"The student is not eligible for a waiver\")"
      ],
      "metadata": {
        "id": "m-U-V6pKJoDK",
        "colab": {
          "base_uri": "https://localhost:8080/"
        },
        "outputId": "b1aaa0de-3146-46b6-a367-772b2160984b"
      },
      "execution_count": null,
      "outputs": [
        {
          "output_type": "stream",
          "name": "stdout",
          "text": [
            "Your cgpa: 3.93\n",
            "Your credits: 78\n",
            "50 percent\n"
          ]
        }
      ]
    },
    {
      "cell_type": "code",
      "source": [
        "#Task16-Task19 are tracing"
      ],
      "metadata": {
        "id": "kO2tVu3pfHOw"
      },
      "execution_count": null,
      "outputs": []
    },
    {
      "cell_type": "code",
      "source": [
        "#Task 20\n",
        "x = int(input())\n",
        "remeinder = 0\n",
        "if x%2!=remeinder and x%5!=remeinder:\n",
        "  print(x)\n",
        "else:\n",
        "  print(\"No\")"
      ],
      "metadata": {
        "colab": {
          "base_uri": "https://localhost:8080/"
        },
        "id": "g-dTo8sufOIS",
        "outputId": "07ca19ab-c5f9-4b7c-a75e-446f1eb25310"
      },
      "execution_count": null,
      "outputs": [
        {
          "output_type": "stream",
          "name": "stdout",
          "text": [
            "5\n",
            "No\n"
          ]
        }
      ]
    },
    {
      "cell_type": "code",
      "source": [
        "#Task 21\n",
        "#Task 20\n",
        "x = int(input())\n",
        "remeinder = 0\n",
        "if x%2!=remeinder or x%5!=remeinder:\n",
        "  print(x)\n",
        "else:\n",
        "  print(\"No\")"
      ],
      "metadata": {
        "colab": {
          "base_uri": "https://localhost:8080/"
        },
        "id": "NTdojo3Rgbpl",
        "outputId": "db9f19f0-7826-4f6a-e7f3-700daa7c60c7"
      },
      "execution_count": null,
      "outputs": [
        {
          "output_type": "stream",
          "name": "stdout",
          "text": [
            "20\n",
            "No\n"
          ]
        }
      ]
    },
    {
      "cell_type": "code",
      "source": [
        "#Task 22\n",
        "canvas = int(input(\"No. of canvas: \"))\n",
        "paint = int(input(\"No. of paint: \"))\n",
        "total = (canvas*120)+(paint*75)\n",
        "print(\"Previous total: \",total)\n",
        "if total<=299:\n",
        "  print(\"New total after discount: \",total )\n",
        "elif 300<=total<=499:\n",
        "  print(\"New total after discount: \",total-10 )\n",
        "elif 500<=total<=749:\n",
        "  print(\"New total after discount: \",total-20)\n",
        "elif 750<=total<=999:\n",
        "  print(\"New total after discount: \",total-50)\n",
        "elif total>=1000:\n",
        "  print(\"New total after discount: \",total-150)"
      ],
      "metadata": {
        "colab": {
          "base_uri": "https://localhost:8080/"
        },
        "id": "8BzumApLhCLp",
        "outputId": "7064b058-98fb-48c2-d764-e52201cd1289"
      },
      "execution_count": null,
      "outputs": [
        {
          "output_type": "stream",
          "name": "stdout",
          "text": [
            "No. of canvas: 5\n",
            "No. of paint: 8\n",
            "Previous total:  1200\n",
            "New total after discount:  1050\n"
          ]
        }
      ]
    },
    {
      "cell_type": "code",
      "source": [
        "#Task 23\n",
        "Fahrenheit = float(input())\n",
        "Celsius = ((Fahrenheit) - 32) * 0.56\n",
        "print((Celsius) ,\"degrees C\")\n",
        "if Celsius<20:\n",
        "  print(\"Winter\")\n",
        "elif 20<=Celsius<=25:\n",
        "  print(\"Autumn\")\n",
        "elif 25<=Celsius<=30:\n",
        "  print(\"Spring\")\n",
        "elif Celsius>=30:\n",
        "  print(\"Summer\")"
      ],
      "metadata": {
        "colab": {
          "base_uri": "https://localhost:8080/"
        },
        "id": "tSbAoda-pQQr",
        "outputId": "49cc9a0d-537e-44a3-f794-dedd0a633be3"
      },
      "execution_count": null,
      "outputs": [
        {
          "output_type": "stream",
          "name": "stdout",
          "text": [
            "77\n",
            "25.200000000000003 degrees C\n",
            "Spring\n"
          ]
        }
      ]
    }
  ]
}
