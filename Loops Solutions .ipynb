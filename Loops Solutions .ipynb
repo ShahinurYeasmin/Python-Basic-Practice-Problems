{
  "nbformat": 4,
  "nbformat_minor": 0,
  "metadata": {
    "colab": {
      "provenance": [],
      "include_colab_link": true
    },
    "kernelspec": {
      "name": "python3",
      "display_name": "Python 3"
    },
    "language_info": {
      "name": "python"
    }
  },
  "cells": [
    {
      "cell_type": "markdown",
      "metadata": {
        "id": "view-in-github",
        "colab_type": "text"
      },
      "source": [
        "<a href=\"https://colab.research.google.com/github/ShahinurYeasmin/Python-Basic-Practice-Problems/blob/main/Loops%20Solutions%20.ipynb\" target=\"_parent\"><img src=\"https://colab.research.google.com/assets/colab-badge.svg\" alt=\"Open In Colab\"/></a>"
      ]
    },
    {
      "cell_type": "code",
      "execution_count": null,
      "metadata": {
        "id": "wNRHNlioyyEr"
      },
      "outputs": [],
      "source": [
        "#Task 1 (a)\n",
        "count = 24\n",
        "while count>=-6:\n",
        "  if count == -6:\n",
        "     print(count,end=\"\")\n",
        "  else:\n",
        "     print(count,end=\",\")\n",
        "  count=count-6"
      ]
    },
    {
      "cell_type": "code",
      "source": [
        "#Task 1 (b)\n",
        "count = -10\n",
        "while count<=20:\n",
        "  if count == 20:\n",
        "     print(count,end=\"\")\n",
        "  else:\n",
        "     print(count,end=\",\")\n",
        "  count=count+5"
      ],
      "metadata": {
        "id": "ksKZqSj10dNT"
      },
      "execution_count": null,
      "outputs": []
    },
    {
      "cell_type": "code",
      "source": [
        "#Task 1 (c)\n",
        "count = 18\n",
        "while count<=63:\n",
        "  if count == 63:\n",
        "     print(count,end=\"\")\n",
        "  else:\n",
        "     print(count,end=\",\")\n",
        "  count=count+9"
      ],
      "metadata": {
        "id": "fnm380L90mF7"
      },
      "execution_count": null,
      "outputs": []
    },
    {
      "cell_type": "code",
      "source": [
        "#Task 1 (d)\n",
        "count = 18\n",
        "while count<=63:\n",
        "  if count%2==0:\n",
        "     print(count,end=\",\")\n",
        "  elif count==63:\n",
        "     print(count*-1,end=\"\")\n",
        "  else:\n",
        "     print(count*-1,end=\",\")\n",
        "  count=count+9"
      ],
      "metadata": {
        "id": "bGaqe8Yv093r",
        "colab": {
          "base_uri": "https://localhost:8080/"
        },
        "outputId": "fd5b5378-fba9-4bfc-ac78-121484e91aef"
      },
      "execution_count": null,
      "outputs": [
        {
          "output_type": "stream",
          "name": "stdout",
          "text": [
            "18,-27,36,-45,54,-63"
          ]
        }
      ]
    },
    {
      "cell_type": "code",
      "source": [
        "#Task 2\n",
        "car = input(\"Your favourite car: \")\n",
        "time = int(input(\"How many times do you wanna print: \"))\n",
        "\n",
        "count = 1\n",
        "while (count<=time):\n",
        "  print(car)\n",
        "  count=count+1"
      ],
      "metadata": {
        "colab": {
          "base_uri": "https://localhost:8080/"
        },
        "id": "q51tci031M6L",
        "outputId": "26ec9ab2-996e-4727-f95a-cd6367ec850b"
      },
      "execution_count": null,
      "outputs": [
        {
          "output_type": "stream",
          "name": "stdout",
          "text": [
            "Your favourite car: blablabla\n",
            "How many times do you wanna print: 5\n",
            "blablabla\n",
            "blablabla\n",
            "blablabla\n",
            "blablabla\n",
            "blablabla\n"
          ]
        }
      ]
    },
    {
      "cell_type": "code",
      "source": [
        "#Task 2 (using for loop)\n",
        "\n",
        "car = input(\"Your favourite car: \")\n",
        "time = int(input(\"How many times do you wanna print: \"))\n",
        "\n",
        "for i in range(time):\n",
        "  print(car)"
      ],
      "metadata": {
        "colab": {
          "base_uri": "https://localhost:8080/"
        },
        "id": "pv5HJKvlMY-3",
        "outputId": "088a3b62-5f6b-4774-9dbb-33a8f2790079"
      },
      "execution_count": null,
      "outputs": [
        {
          "output_type": "stream",
          "name": "stdout",
          "text": [
            "Your favourite car: bmw\n",
            "How many times do you wanna print: 5\n",
            "bmw\n",
            "bmw\n",
            "bmw\n",
            "bmw\n",
            "bmw\n"
          ]
        }
      ]
    },
    {
      "cell_type": "code",
      "source": [
        "#Task 3\n",
        "count=1\n",
        "sum=0\n",
        "while count<=600:\n",
        "   if count%7==0 and count%9==0:\n",
        "      sum=sum+count\n",
        "   count=count+1\n",
        "print(sum)"
      ],
      "metadata": {
        "id": "tLfMOzf85kOY",
        "colab": {
          "base_uri": "https://localhost:8080/"
        },
        "outputId": "bb8dc26e-d207-4d13-fd33-84083a40aa19"
      },
      "execution_count": null,
      "outputs": [
        {
          "output_type": "stream",
          "name": "stdout",
          "text": [
            "2835\n"
          ]
        }
      ]
    },
    {
      "cell_type": "code",
      "source": [
        "#Using for loop\n",
        "\n",
        "sum=0\n",
        "\n",
        "for count in range(0,601):\n",
        "  if count%7==0 and count%9==0:\n",
        "    sum=sum+count\n",
        "print(sum)"
      ],
      "metadata": {
        "colab": {
          "base_uri": "https://localhost:8080/"
        },
        "id": "WmPoGn6T-xSp",
        "outputId": "c1fcdc61-723a-4a61-b57c-6d2630c94270"
      },
      "execution_count": null,
      "outputs": [
        {
          "output_type": "stream",
          "name": "stdout",
          "text": [
            "2835\n"
          ]
        }
      ]
    },
    {
      "cell_type": "code",
      "source": [
        "#Task 4\n",
        "count=1\n",
        "sum=0\n",
        "while count<=600:\n",
        "   if count%7==0 and count%9==0:\n",
        "      pass\n",
        "   elif count%7==0 or count%9==0:\n",
        "      sum=sum+count\n",
        "   count=count+1\n",
        "print(sum)"
      ],
      "metadata": {
        "colab": {
          "base_uri": "https://localhost:8080/"
        },
        "id": "pa3sZMYy9FCq",
        "outputId": "85a7d162-6380-46d4-db5c-7cac65d6ca8d"
      },
      "execution_count": null,
      "outputs": [
        {
          "output_type": "stream",
          "name": "stdout",
          "text": [
            "39814\n"
          ]
        }
      ]
    },
    {
      "cell_type": "code",
      "source": [
        "#Task 5\n",
        "count = 10\n",
        "while 10<=count<=50:\n",
        "   if count%2!=0:\n",
        "     print(count, end=\" \")\n",
        "   count=count+1"
      ],
      "metadata": {
        "colab": {
          "base_uri": "https://localhost:8080/"
        },
        "id": "t-_DyIde_SBG",
        "outputId": "3e30cdb6-6d47-4d69-c46b-5f1763e8c8c5"
      },
      "execution_count": null,
      "outputs": [
        {
          "output_type": "stream",
          "name": "stdout",
          "text": [
            "11 13 15 17 19 21 23 25 27 29 31 33 35 37 39 41 43 45 47 49 "
          ]
        }
      ]
    },
    {
      "cell_type": "code",
      "source": [
        "#Task 6\n",
        "\n",
        "n=int(input())\n",
        "y=0\n",
        "\n",
        "for count in range(1,n+1,1):\n",
        "  if count%2==0:\n",
        "    y=y-(count**2)\n",
        "  else:\n",
        "    y=y+(count**2)\n",
        "print(y)"
      ],
      "metadata": {
        "colab": {
          "base_uri": "https://localhost:8080/"
        },
        "id": "grRYcaLkBb-T",
        "outputId": "57131cf6-3340-4e8c-c834-c270ad783a51"
      },
      "execution_count": null,
      "outputs": [
        {
          "output_type": "stream",
          "name": "stdout",
          "text": [
            "5\n",
            "15\n"
          ]
        }
      ]
    },
    {
      "cell_type": "code",
      "source": [
        "#Task 7\n",
        "total=0\n",
        "avg=0\n",
        "kotobar=0\n",
        "\n",
        "\n",
        "for i in range(0,10,1):\n",
        "  num=int(input())\n",
        "  if num%2!=0:\n",
        "    kotobar=kotobar+1\n",
        "    total=total+num\n",
        "    avg=total/kotobar\n",
        "print(\"The total of the odd numbers is\" ,total, \"and their average is\",avg)"
      ],
      "metadata": {
        "id": "eCw3U8X-Ha2d",
        "colab": {
          "base_uri": "https://localhost:8080/"
        },
        "outputId": "14698951-b4e8-4a68-b399-54c93b371fd6"
      },
      "execution_count": null,
      "outputs": [
        {
          "output_type": "stream",
          "name": "stdout",
          "text": [
            "1\n",
            "2\n",
            "3\n",
            "4\n",
            "5\n",
            "6\n",
            "7\n",
            "8\n",
            "9\n",
            "10\n",
            "The total of the odd numbers is 25 and their average is 5.0\n"
          ]
        }
      ]
    },
    {
      "cell_type": "code",
      "source": [
        "#Task 8\n",
        "n= int(input())\n",
        "sum=0\n",
        "for i in range(1,n+1):\n",
        "  if i%7==0:\n",
        "    sum=sum+i\n",
        "print(sum)"
      ],
      "metadata": {
        "colab": {
          "base_uri": "https://localhost:8080/"
        },
        "id": "TRkUvQ-FOBDh",
        "outputId": "d0e2b3ba-17e6-4e4b-f89f-9bba06907d12"
      },
      "execution_count": null,
      "outputs": [
        {
          "output_type": "stream",
          "name": "stdout",
          "text": [
            "50\n",
            "196\n"
          ]
        }
      ]
    },
    {
      "cell_type": "code",
      "source": [
        "#Task 9\n",
        "sum=0\n",
        "for i in range(1,6,1):\n",
        "  n=int(input(\"Enter your number: \"))\n",
        "  sum=sum+n\n",
        "  print(sum)"
      ],
      "metadata": {
        "colab": {
          "base_uri": "https://localhost:8080/"
        },
        "id": "gLEgv4JtP0zF",
        "outputId": "fd66531b-7fc2-4436-8661-9c0c2c053f32"
      },
      "execution_count": null,
      "outputs": [
        {
          "output_type": "stream",
          "name": "stdout",
          "text": [
            "Enter your number: 1\n",
            "1\n",
            "Enter your number: 2\n",
            "3\n",
            "Enter your number: 3\n",
            "6\n",
            "Enter your number: 4\n",
            "10\n",
            "Enter your number: 5\n",
            "15\n"
          ]
        }
      ]
    },
    {
      "cell_type": "code",
      "source": [
        "#Task 10\n",
        "\n",
        "num=int(input())\n",
        "\n",
        "while num>0:\n",
        "  digit=num%10\n",
        "  print(digit)\n",
        "  num=num//10"
      ],
      "metadata": {
        "id": "Zz5x2gFuVB7h",
        "colab": {
          "base_uri": "https://localhost:8080/"
        },
        "outputId": "a2130ec8-3af4-4739-9691-afe00b72ccbe"
      },
      "execution_count": null,
      "outputs": [
        {
          "output_type": "stream",
          "name": "stdout",
          "text": [
            "8762\n",
            "2\n",
            "6\n",
            "7\n",
            "8\n"
          ]
        }
      ]
    },
    {
      "cell_type": "code",
      "source": [
        "#Task 11\n",
        "\n",
        "num=int(input())\n",
        "kotobar=0\n",
        "\n",
        "while num>0:\n",
        "  num=num//10\n",
        "  kotobar=kotobar+1\n",
        "print(kotobar)"
      ],
      "metadata": {
        "colab": {
          "base_uri": "https://localhost:8080/"
        },
        "id": "s6uughSCSXWz",
        "outputId": "9422b4ed-5d46-4b26-8ea2-40ebc2e9282a"
      },
      "execution_count": null,
      "outputs": [
        {
          "output_type": "stream",
          "name": "stdout",
          "text": [
            "8645\n",
            "4\n"
          ]
        }
      ]
    },
    {
      "cell_type": "code",
      "source": [
        "#task 12\n",
        "\n",
        "num=int(input())\n",
        "x=num\n",
        "count=0\n",
        "while x!=0:\n",
        "  x=x//10\n",
        "  count=count+1\n",
        "total10=10**(count-1)\n",
        "while num!=0:\n",
        "  y=num//total10\n",
        "  num=num%total10\n",
        "  total10=total10//10\n",
        "  if num==0:\n",
        "    print(y,end=\"\")\n",
        "  else:\n",
        "    print(y,end=\",\")"
      ],
      "metadata": {
        "id": "TKKkD0etU6xv",
        "colab": {
          "base_uri": "https://localhost:8080/"
        },
        "outputId": "c68db1d3-86b9-4442-e1b9-626ac16a1cf4"
      },
      "execution_count": null,
      "outputs": [
        {
          "output_type": "stream",
          "name": "stdout",
          "text": [
            "87246\n",
            "8,7,2,4,6"
          ]
        }
      ]
    },
    {
      "cell_type": "code",
      "source": [
        "#Task 13\n",
        "\n",
        "user=int(input())\n",
        "\n",
        "divisor = 1\n",
        "kotobar = 0\n",
        "\n",
        "while divisor<=user:\n",
        "  if user%divisor==0:\n",
        "    kotobar=kotobar+1\n",
        "    print(divisor)\n",
        "  divisor=divisor+1\n",
        "print(\"Total\" , kotobar, \"divisors.\")"
      ],
      "metadata": {
        "colab": {
          "base_uri": "https://localhost:8080/"
        },
        "id": "1DYeRd_mVIKc",
        "outputId": "c1e2ad73-f541-442e-d82e-89c65acf1d02"
      },
      "execution_count": null,
      "outputs": [
        {
          "output_type": "stream",
          "name": "stdout",
          "text": [
            "6\n",
            "1\n",
            "2\n",
            "3\n",
            "6\n",
            "Total 4 divisors.\n"
          ]
        }
      ]
    },
    {
      "cell_type": "code",
      "source": [
        "#Using for loop\n",
        "num=int(input())\n",
        "count=0\n",
        "\n",
        "for i in range(1,num+1):\n",
        "  if num%i==0:\n",
        "    print(i)\n",
        "    count=count+1\n",
        "\n",
        "print(\"Total\" , count, \"divisors.\")"
      ],
      "metadata": {
        "colab": {
          "base_uri": "https://localhost:8080/"
        },
        "id": "ZDHG5FrcGpNx",
        "outputId": "a53e4410-48a7-4a6a-8a00-5fb46fa7721a"
      },
      "execution_count": null,
      "outputs": [
        {
          "output_type": "stream",
          "name": "stdout",
          "text": [
            "6\n",
            "1\n",
            "2\n",
            "3\n",
            "6\n",
            "Total 4 divisors.\n"
          ]
        }
      ]
    },
    {
      "cell_type": "code",
      "source": [
        "#Task 14\n",
        "\n",
        "user = int(input())\n",
        "\n",
        "divisor = 1\n",
        "sum = 0\n",
        "\n",
        "while divisor<user:\n",
        "  if user%divisor==0:\n",
        "    sum=sum+divisor\n",
        "  divisor=divisor+1\n",
        "if sum==user:\n",
        "  print(user, \"is a perfect number.\")\n",
        "else: print(user,\"is not a perfext number\")"
      ],
      "metadata": {
        "colab": {
          "base_uri": "https://localhost:8080/"
        },
        "id": "sJ4-z5IgWJ2l",
        "outputId": "1cca6a15-4679-4368-ebe6-dc6e9d26ae37"
      },
      "execution_count": null,
      "outputs": [
        {
          "output_type": "stream",
          "name": "stdout",
          "text": [
            "6\n",
            "6 is a perfect number.\n"
          ]
        }
      ]
    },
    {
      "cell_type": "code",
      "source": [
        "#Task 15\n",
        "\n",
        "kotobar=0\n",
        "divisor=1\n",
        "\n",
        "user=int(input())\n",
        "\n",
        "while divisor<=user:\n",
        "  if user%divisor==0:\n",
        "    kotobar=kotobar+1\n",
        "  divisor=divisor+1\n",
        "\n",
        "if kotobar==2:\n",
        "  print(user,\" is a prime number\")\n",
        "else: print( user, \" is not a prime number\")"
      ],
      "metadata": {
        "id": "6CyGs2MKWlCE",
        "outputId": "26d69660-ffd2-4aa4-f21b-8aefe46a863c",
        "colab": {
          "base_uri": "https://localhost:8080/"
        }
      },
      "execution_count": null,
      "outputs": [
        {
          "output_type": "stream",
          "name": "stdout",
          "text": [
            "11\n",
            "11  is a prime number\n"
          ]
        }
      ]
    },
    {
      "cell_type": "code",
      "source": [
        "#Task 16\n",
        "\n",
        "n=int(input(\"Quantity: \"))\n",
        "sum=0\n",
        "max=int(-10000000000000000000000000000000)\n",
        "min=int(1000000000000000000000000000000)\n",
        "\n",
        "for i in range(n):\n",
        "  num=int(input())\n",
        "  sum=sum+num\n",
        "  if num<min:\n",
        "    min=num\n",
        "  elif num>max:\n",
        "    max=num\n",
        "\n",
        "avg=sum/n\n",
        "\n",
        "print(\"Maximum is:\", max)\n",
        "print(\"Minimum is: \", min)\n",
        "print(\"Avarage is: \", avg)"
      ],
      "metadata": {
        "id": "3K1krqaZyFEM",
        "colab": {
          "base_uri": "https://localhost:8080/"
        },
        "outputId": "d5034150-c9fe-4f0b-fb37-f1bdfec0e748"
      },
      "execution_count": null,
      "outputs": [
        {
          "output_type": "stream",
          "name": "stdout",
          "text": [
            "Quantity: 5\n",
            "4\n",
            "10\n",
            "-1\n",
            "-100\n",
            "1\n",
            "Maximum is: 10\n",
            "Minimum is:  -100\n",
            "Avarage is:  -17.2\n"
          ]
        }
      ]
    },
    {
      "cell_type": "code",
      "source": [
        "#Task 17\n",
        "\n",
        "n=int(input())\n",
        "\n",
        "for i in range(n):\n",
        "  for j in range(n):\n",
        "    print(\"+\",end=\"\")\n",
        "  print()"
      ],
      "metadata": {
        "colab": {
          "base_uri": "https://localhost:8080/"
        },
        "id": "Vg-KlGXDZ1cW",
        "outputId": "dae1e093-69c8-4802-9dab-be0c88869850"
      },
      "execution_count": null,
      "outputs": [
        {
          "output_type": "stream",
          "name": "stdout",
          "text": [
            "3\n",
            "+++\n",
            "+++\n",
            "+++\n"
          ]
        }
      ]
    },
    {
      "cell_type": "code",
      "source": [
        "#Task 18\n",
        "\n",
        "r=int(input())\n",
        "c=int(input())\n",
        "\n",
        "for i in range(r):\n",
        "  for j in range(1,c+1):\n",
        "    print(j,end=\"\")\n",
        "  print()"
      ],
      "metadata": {
        "colab": {
          "base_uri": "https://localhost:8080/"
        },
        "id": "FSl13xwHeNmS",
        "outputId": "9532b0a8-10f8-4862-ba68-2b853dd5e6b0"
      },
      "execution_count": null,
      "outputs": [
        {
          "output_type": "stream",
          "name": "stdout",
          "text": [
            "5\n",
            "4\n",
            "1234\n",
            "1234\n",
            "1234\n",
            "1234\n",
            "1234\n"
          ]
        }
      ]
    },
    {
      "cell_type": "code",
      "source": [
        "#Task 19\n",
        "n=int(input())\n",
        "\n",
        "for i in range(n+1):\n",
        "    for j in range(1,i+1):\n",
        "      print(j, end=\" \")\n",
        "    print()"
      ],
      "metadata": {
        "colab": {
          "base_uri": "https://localhost:8080/"
        },
        "id": "ySWm4YnCgHDG",
        "outputId": "29a96309-7e3e-439e-8498-f1d2e120687f"
      },
      "execution_count": null,
      "outputs": [
        {
          "output_type": "stream",
          "name": "stdout",
          "text": [
            "5\n",
            "\n",
            "1 \n",
            "1 2 \n",
            "1 2 3 \n",
            "1 2 3 4 \n",
            "1 2 3 4 5 \n"
          ]
        }
      ]
    },
    {
      "cell_type": "code",
      "source": [
        "#Task 25\n",
        "\n",
        "n=int(input())\n",
        "a=0\n",
        "b=1\n",
        "c=0\n",
        "\n",
        "for i in range(n):\n",
        "  print(c,end=\" \")\n",
        "  a=b\n",
        "  b=c\n",
        "  c=a+b"
      ],
      "metadata": {
        "id": "j1-MOHV_V38O",
        "colab": {
          "base_uri": "https://localhost:8080/"
        },
        "outputId": "dc1c97c4-c83a-4e5c-f776-987703c8e02e"
      },
      "execution_count": null,
      "outputs": [
        {
          "output_type": "stream",
          "name": "stdout",
          "text": [
            "10\n",
            "0 1 1 2 3 5 8 13 21 34 "
          ]
        }
      ]
    },
    {
      "cell_type": "code",
      "source": [
        "#Task 26\n",
        "user=int(input())\n",
        "a_list=[]\n",
        "\n",
        "while user>0:\n",
        "  remainder=user%2\n",
        "  a_list.append(remainder)\n",
        "  user=user//2\n",
        "print(a_list)\n",
        "\n",
        "for count in range(len(a_list)-1,-1,-1):\n",
        "  print(a_list[count],end=\"\")"
      ],
      "metadata": {
        "id": "Ysc9JimWV-BE",
        "colab": {
          "base_uri": "https://localhost:8080/"
        },
        "outputId": "444cd981-c33f-4a9a-dcb0-5ffc593a2d73"
      },
      "execution_count": null,
      "outputs": [
        {
          "output_type": "stream",
          "name": "stdout",
          "text": [
            "11\n",
            "[1, 1, 0, 1]\n",
            "1011"
          ]
        }
      ]
    },
    {
      "cell_type": "code",
      "source": [
        "#Task 27\n",
        "\n",
        "user=int(input())\n",
        "store=user\n",
        "koyta=0\n",
        "sum=0\n",
        "\n",
        "while user>0:\n",
        "  user=user//10\n",
        "  koyta=koyta+1\n",
        "print(\"total digits are\",(koyta))\n",
        "\n",
        "for count in range(koyta):\n",
        "  remeinder=store%10\n",
        "  sum=sum+(2**(count))*remeinder\n",
        "  store=store//10\n",
        "print(sum)"
      ],
      "metadata": {
        "id": "NY_Aou--WABs",
        "colab": {
          "base_uri": "https://localhost:8080/"
        },
        "outputId": "b945b20c-aab1-43c6-8a12-bc885e6b922f"
      },
      "execution_count": null,
      "outputs": [
        {
          "output_type": "stream",
          "name": "stdout",
          "text": [
            "1010\n",
            "total digits are 4\n",
            "10\n"
          ]
        }
      ]
    },
    {
      "cell_type": "code",
      "source": [
        "#Task 28\n",
        "\n",
        "fnum=int(input())\n",
        "lnum=int(input())\n",
        "print(\"Between\",fnum,\"and\",lnum)\n",
        "count=0\n",
        "divisor=1\n",
        "koyta=0\n",
        "\n",
        "for num in range(fnum,lnum+1):\n",
        "    if num%divisor==0:\n",
        "      count=count+1\n",
        "      if count==2:\n",
        "        koyta=koyta+1\n",
        "        print(num)\n",
        "\n",
        "print(\"found\",koyta,\"prime numbers\")"
      ],
      "metadata": {
        "id": "uoFYmDrHWA8o",
        "colab": {
          "base_uri": "https://localhost:8080/"
        },
        "outputId": "aa0c14f3-aa3d-43a4-9e6b-4d121dac2d5e"
      },
      "execution_count": null,
      "outputs": [
        {
          "output_type": "stream",
          "name": "stdout",
          "text": [
            "2\n",
            "6\n",
            "Between 2 and 6\n",
            "3\n",
            "found 1 prime numbers\n"
          ]
        }
      ]
    },
    {
      "cell_type": "code",
      "source": [
        "#Task 29\n",
        "\n",
        "fnum=int(input())\n",
        "snum=int(input())\n",
        "div=int(input())\n",
        "\n",
        "for count in range(fnum,snum+1,1):\n",
        "  last=count%10\n",
        "  first=count//10\n",
        "  product=first*last\n",
        "  if product%div==0:\n",
        "    print(product)"
      ],
      "metadata": {
        "id": "WMgt-z5bWB-O",
        "colab": {
          "base_uri": "https://localhost:8080/"
        },
        "outputId": "711383c6-b429-4991-d490-97bb8e9d3548"
      },
      "execution_count": null,
      "outputs": [
        {
          "output_type": "stream",
          "name": "stdout",
          "text": [
            "25\n",
            "30\n",
            "4\n",
            "12\n",
            "16\n",
            "0\n"
          ]
        }
      ]
    }
  ]
}