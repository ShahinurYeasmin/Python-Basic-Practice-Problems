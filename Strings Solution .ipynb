{
  "nbformat": 4,
  "nbformat_minor": 0,
  "metadata": {
    "colab": {
      "provenance": [],
      "include_colab_link": true
    },
    "kernelspec": {
      "name": "python3",
      "display_name": "Python 3"
    },
    "language_info": {
      "name": "python"
    }
  },
  "cells": [
    {
      "cell_type": "markdown",
      "metadata": {
        "id": "view-in-github",
        "colab_type": "text"
      },
      "source": [
        "<a href=\"https://colab.research.google.com/github/ShahinurYeasmin/Python-Basic-Practice-Problems/blob/main/Strings%20Solution%20.ipynb\" target=\"_parent\"><img src=\"https://colab.research.google.com/assets/colab-badge.svg\" alt=\"Open In Colab\"/></a>"
      ]
    },
    {
      "cell_type": "code",
      "execution_count": null,
      "metadata": {
        "id": "PciZYJa2i1KT",
        "colab": {
          "base_uri": "https://localhost:8080/"
        },
        "outputId": "c4e1227f-fb8d-4261-bb72-f49ee17f9956"
      },
      "outputs": [
        {
          "output_type": "stream",
          "name": "stdout",
          "text": [
            "CSE110\n",
            "011ESC\n"
          ]
        }
      ],
      "source": [
        "#Task 1\n",
        "name=str(input())\n",
        "print(name[::-1])"
      ]
    },
    {
      "cell_type": "code",
      "source": [
        "#Task 2\n",
        "user=str(input())\n",
        "index=int(input())\n",
        "\n",
        "print(user[index::-1]+user[index+1::1])"
      ],
      "metadata": {
        "colab": {
          "base_uri": "https://localhost:8080/"
        },
        "id": "1cF2fKoM3_4F",
        "outputId": "b3770012-ebf1-4315-90bb-f426c4b774a3"
      },
      "execution_count": null,
      "outputs": [
        {
          "output_type": "stream",
          "name": "stdout",
          "text": [
            "12345\n",
            "2\n",
            "32145\n"
          ]
        }
      ]
    },
    {
      "cell_type": "code",
      "source": [
        "#Task 3\n",
        "num=input()\n",
        "a=True\n",
        "\n",
        "for i in num:\n",
        "  if i==\"0\" or i==\"1\":\n",
        "    a=True\n",
        "  else:\n",
        "    a=False\n",
        "    break\n",
        "if a==True:\n",
        "  print(\"Binary number\")\n",
        "else:\n",
        "  print(\"Not a binary number\")"
      ],
      "metadata": {
        "colab": {
          "base_uri": "https://localhost:8080/"
        },
        "id": "ZohfmNL84Nmr",
        "outputId": "299067a0-4937-4f81-9ea1-2f0b64894f49"
      },
      "execution_count": null,
      "outputs": [
        {
          "output_type": "stream",
          "name": "stdout",
          "text": [
            "001010\n",
            "Binary number\n"
          ]
        }
      ]
    },
    {
      "cell_type": "code",
      "source": [
        "#Task 3\n",
        "name=input(\"Enter string: \")\n",
        "count=0\n",
        "for s in name:\n",
        "    if s!=\"0\" and s!=\"1\":\n",
        "        count=count+1\n",
        "\n",
        "if count==0:\n",
        "    print(\"Binary Number\")\n",
        "else:\n",
        "    print(\"Not a Binary Number\")\n"
      ],
      "metadata": {
        "colab": {
          "base_uri": "https://localhost:8080/"
        },
        "id": "enyKJKVbKilE",
        "outputId": "55f43dd6-cbb5-43ef-a8c4-1546ed9f9315"
      },
      "execution_count": null,
      "outputs": [
        {
          "output_type": "stream",
          "name": "stdout",
          "text": [
            "Enter string: 1111000\n",
            "Binary Number\n"
          ]
        }
      ]
    },
    {
      "cell_type": "code",
      "source": [
        "#Task 4\n",
        "name = str(input())\n",
        "length=len(name)\n",
        "\n",
        "if name[len(name)-2:]==\"er\":\n",
        "  print(name[0:length-2]+\"est\")\n",
        "elif name[len(name)-3:]==\"est\":\n",
        "  print(name)\n",
        "elif length>3:\n",
        "  print(name+\"er\")\n",
        "elif length<4:\n",
        "  print(name)"
      ],
      "metadata": {
        "colab": {
          "base_uri": "https://localhost:8080/"
        },
        "id": "t6-WzuWDBqVS",
        "outputId": "cc6140a4-29a9-4783-a751-6600aa9d3b81"
      },
      "execution_count": null,
      "outputs": [
        {
          "output_type": "stream",
          "name": "stdout",
          "text": [
            "Stronger\n",
            "Strongest\n"
          ]
        }
      ]
    },
    {
      "cell_type": "code",
      "source": [
        "#Task 5\n",
        "user=input()\n",
        "length=len(user)\n",
        "\n",
        "\n",
        "for i in range(0,length):\n",
        "  print(user[0:i+1])"
      ],
      "metadata": {
        "colab": {
          "base_uri": "https://localhost:8080/"
        },
        "id": "JmpRm2i8BsVi",
        "outputId": "f3fb5c79-5122-4532-f6c3-fd3a32d921cf"
      },
      "execution_count": null,
      "outputs": [
        {
          "output_type": "stream",
          "name": "stdout",
          "text": [
            "jfljf\n",
            "j\n",
            "jf\n",
            "jfl\n",
            "jflj\n",
            "jfljf\n"
          ]
        }
      ]
    },
    {
      "cell_type": "code",
      "source": [
        "#Task 6\n",
        "user=str(input())\n",
        "length=len(user)\n",
        "\n",
        "for char in range(length):\n",
        "  ascii=ord(user[char])\n",
        "  print(user[char],\":\",ascii)"
      ],
      "metadata": {
        "colab": {
          "base_uri": "https://localhost:8080/"
        },
        "id": "DlT_5umvPOq9",
        "outputId": "cd7ea183-3abd-4724-b1a2-c35cf315b542"
      },
      "execution_count": null,
      "outputs": [
        {
          "output_type": "stream",
          "name": "stdout",
          "text": [
            "Programming\n",
            "P : 80\n",
            "r : 114\n",
            "o : 111\n",
            "g : 103\n",
            "r : 114\n",
            "a : 97\n",
            "m : 109\n",
            "m : 109\n",
            "i : 105\n",
            "n : 110\n",
            "g : 103\n"
          ]
        }
      ]
    },
    {
      "cell_type": "code",
      "source": [
        "#Task 7\n",
        "word=input()\n",
        "length=len(word)\n",
        "\n",
        "for count in range(length):\n",
        "  if word[count]=='z':\n",
        "    print('a',end=\"\")\n",
        "  else:\n",
        "    ascii=chr(ord(word[count])+1)\n",
        "    print(ascii,end=\"\")"
      ],
      "metadata": {
        "id": "AonnbxtHPsTa",
        "colab": {
          "base_uri": "https://localhost:8080/"
        },
        "outputId": "03f83094-20af-42ee-cfb2-667fa354f63d"
      },
      "execution_count": null,
      "outputs": [
        {
          "output_type": "stream",
          "name": "stdout",
          "text": [
            "xyzabc\n",
            "yzabcd"
          ]
        }
      ]
    },
    {
      "cell_type": "code",
      "source": [
        "#Task 8\n",
        "\n",
        "user=input()\n",
        "\n",
        "for i in user:\n",
        "  index=user.index(i)\n",
        "  if index%2==0:\n",
        "    pass\n",
        "  else:\n",
        "    print(chr(ord(i)-32),end=\"\")"
      ],
      "metadata": {
        "colab": {
          "base_uri": "https://localhost:8080/"
        },
        "id": "L1CkcaI_yWqL",
        "outputId": "6ef1549b-d333-40fb-b992-a162a37dcd27"
      },
      "execution_count": null,
      "outputs": [
        {
          "output_type": "stream",
          "name": "stdout",
          "text": [
            "abcd\n",
            "BD"
          ]
        }
      ]
    },
    {
      "cell_type": "code",
      "source": [
        "#Task 9\n",
        "user=input()\n",
        "length=len(user)\n",
        "new_word=\"\"\n",
        "\n",
        "for count in range(length):\n",
        "  if count<length-1:\n",
        "    if user[count]!=user[count+1]:\n",
        "      new_word=new_word+user[count]\n",
        "  else:\n",
        "      new_word=new_word+user[count]\n",
        "print(new_word)"
      ],
      "metadata": {
        "colab": {
          "base_uri": "https://localhost:8080/"
        },
        "id": "0wjUUXxoyZME",
        "outputId": "494f9dc3-56b0-41fc-c13e-4da3197584f6"
      },
      "execution_count": null,
      "outputs": [
        {
          "output_type": "stream",
          "name": "stdout",
          "text": [
            "aaaaaaaaabbbbbbddddddddddbbbbbbffffffffnnnnnnccccccccc\n",
            "abdbfnc\n"
          ]
        }
      ]
    },
    {
      "cell_type": "code",
      "source": [
        "# Task 9\n",
        "\n",
        "user=input()\n",
        "newstring=\"\"\n",
        "\n",
        "for i in user:\n",
        "  if i in newstring:\n",
        "    pass\n",
        "  else:\n",
        "    newstring=newstring+i\n",
        "\n",
        "print(newstring)"
      ],
      "metadata": {
        "colab": {
          "base_uri": "https://localhost:8080/"
        },
        "id": "KxJDwkEmUJb0",
        "outputId": "26322bd1-0b86-4ae2-a892-290097ebfdea"
      },
      "execution_count": null,
      "outputs": [
        {
          "output_type": "stream",
          "name": "stdout",
          "text": [
            "aaaaaaaaaaaabbbbbccccccccccccccddd\n",
            "abcd\n"
          ]
        }
      ]
    },
    {
      "cell_type": "code",
      "source": [
        "#Task 10\n",
        "\n",
        "user=input()\n",
        "length=len(user)\n",
        "new_word=\"\"\n",
        "index=0\n",
        "\n",
        "for count in range(length):\n",
        "  if user[count]==\",\":\n",
        "    index=count\n",
        "\n",
        "fword=user[0:index]\n",
        "print(fword)\n",
        "sword=user[index+2:]\n",
        "print(sword)\n",
        "\n",
        "leng=0\n",
        "\n",
        "if len(fword)<len(sword):\n",
        "  leng=len(fword)\n",
        "elif len(sword)<len(fword):\n",
        "  leng=len(sword)\n",
        "\n",
        "for count in range(leng):\n",
        "  new_word=new_word+fword[count]+sword[count]\n",
        "\n",
        "\n",
        "add=new_word+fword[leng:0]\n",
        "print(add)"
      ],
      "metadata": {
        "colab": {
          "base_uri": "https://localhost:8080/"
        },
        "id": "jvY3E9Z53Iha",
        "outputId": "8b0831c6-2091-414c-d45c-4adeb16f48de"
      },
      "execution_count": null,
      "outputs": [
        {
          "output_type": "stream",
          "name": "stdout",
          "text": [
            "ABCD, efgh\n",
            "ABCD\n",
            "efgh\n",
            "\n"
          ]
        }
      ]
    },
    {
      "cell_type": "code",
      "source": [
        "#Task 16\n",
        "\n",
        "word=input()\n",
        "char=input()\n",
        "length=len(word)\n",
        "new_word=''\n",
        "new_word_1=''\n",
        "koyta=0\n",
        "\n",
        "for count in range(length):\n",
        "  if char in word[count]:\n",
        "    koyta=koyta+1\n",
        "  else:\n",
        "    new_word=new_word+word[count]\n",
        "\n",
        "if koyta==0 and length>3:\n",
        "    new_word_1=word[1:length-1]\n",
        "\n",
        "print(new_word)\n",
        "print(new_word_1)"
      ],
      "metadata": {
        "colab": {
          "base_uri": "https://localhost:8080/"
        },
        "id": "Jdki5XQM5Mb6",
        "outputId": "21748a9c-2119-46b8-c156-0a0ba9de3ea3"
      },
      "execution_count": null,
      "outputs": [
        {
          "output_type": "stream",
          "name": "stdout",
          "text": [
            "tanjiro kamado\n",
            "a\n",
            "tnjiro kmdo\n",
            "\n"
          ]
        }
      ]
    },
    {
      "cell_type": "code",
      "source": [
        "#Task 16\n",
        "\n",
        "word=input()\n",
        "letter=input()\n",
        "\n",
        "for char in word:\n",
        "  if char==letter:\n",
        "    pass\n",
        "  else:\n",
        "    print(char, end=\"\")"
      ],
      "metadata": {
        "colab": {
          "base_uri": "https://localhost:8080/"
        },
        "id": "i5X_iz5md9Ts",
        "outputId": "4effb245-1d15-4a51-af9a-df343c3772f7"
      },
      "execution_count": null,
      "outputs": [
        {
          "output_type": "stream",
          "name": "stdout",
          "text": [
            "tanjiro kamado\n",
            "a\n",
            "tnjiro kmdo"
          ]
        }
      ]
    },
    {
      "cell_type": "code",
      "source": [
        "#Task 17\n",
        "\n",
        "user=input()\n",
        "sign=input()\n",
        "length=len(user)\n",
        "\n",
        "for count in range(length):\n",
        "  if user[count]==sign:\n",
        "    print()\n",
        "  else:\n",
        "    print(user[count],end=\"\")"
      ],
      "metadata": {
        "colab": {
          "base_uri": "https://localhost:8080/"
        },
        "id": "JVGz2iQD51yt",
        "outputId": "0513ce96-9dcd-413d-8d1a-4f73aed35d9b"
      },
      "execution_count": null,
      "outputs": [
        {
          "output_type": "stream",
          "name": "stdout",
          "text": [
            "this-is-cse110\n",
            "-\n",
            "this\n",
            "is\n",
            "cse110"
          ]
        }
      ]
    },
    {
      "cell_type": "code",
      "source": [
        "#Task 18\n",
        "\n",
        "string=input()\n",
        "num=int(input())\n",
        "newnum=0\n",
        "\n",
        "if num%2==0:\n",
        "  newnum=num*2\n",
        "elif num%2==1:\n",
        "  newnum=num*3\n",
        "\n",
        "print(string*newnum,end=\" \")"
      ],
      "metadata": {
        "colab": {
          "base_uri": "https://localhost:8080/"
        },
        "id": "nQFGmgNuBJrh",
        "outputId": "8c7846ae-84d3-4248-e396-0e87ed5dd415"
      },
      "execution_count": null,
      "outputs": [
        {
          "output_type": "stream",
          "name": "stdout",
          "text": [
            "cse\n",
            "4\n",
            "csecsecsecsecsecsecsecse "
          ]
        }
      ]
    },
    {
      "cell_type": "code",
      "source": [
        "#Task 19\n",
        "\n",
        "string=input()\n",
        "length=len(string)\n",
        "\n",
        "for count in range(length):\n",
        "  if count%2==0:\n",
        "    print(string[count],end=\"\")\n",
        "  elif string[count]==\" \":\n",
        "    pass\n",
        "  else:\n",
        "    print(chr(ord(string[count])-32), end=\"\")"
      ],
      "metadata": {
        "colab": {
          "base_uri": "https://localhost:8080/"
        },
        "id": "-3dCGh9YEvgg",
        "outputId": "4ec38502-dc28-4132-9e50-fc1c5f2cd3d0"
      },
      "execution_count": null,
      "outputs": [
        {
          "output_type": "stream",
          "name": "stdout",
          "text": [
            "I       love         Python         Programming\n",
            "I   lOvE     0yThOn    PRoGrAmMiNg"
          ]
        }
      ]
    }
  ]
}